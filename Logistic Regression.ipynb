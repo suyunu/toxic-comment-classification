{
 "cells": [
  {
   "cell_type": "markdown",
   "metadata": {},
   "source": [
    "# Toxic Comment Classification\n",
    "\n",
    "**Burak Suyunu**\n",
    "\n",
    "**submitted to Prof. Ethem Alpaydın**"
   ]
  },
  {
   "cell_type": "markdown",
   "metadata": {},
   "source": [
    "# Logistic Regression Notebook"
   ]
  },
  {
   "cell_type": "code",
   "execution_count": 38,
   "metadata": {},
   "outputs": [],
   "source": [
    "import numpy as np\n",
    "import pandas as pd\n",
    "import gc\n",
    "import time\n",
    "import pickle\n",
    "\n",
    "from sklearn.feature_extraction.text import TfidfVectorizer\n",
    "from sklearn.linear_model import LogisticRegression\n",
    "from sklearn.model_selection import cross_val_score\n",
    "from sklearn.metrics import roc_auc_score\n",
    "from scipy.sparse import hstack\n"
   ]
  },
  {
   "cell_type": "code",
   "execution_count": 2,
   "metadata": {},
   "outputs": [],
   "source": [
    "train = pd.read_csv(\"train_clean.csv\")\n",
    "test = pd.read_csv(\"test_clean.csv\")\n",
    "test_labels = pd.read_csv(\"data/test_labels.csv\")\n",
    "class_names = ['toxic', 'severe_toxic', 'obscene', 'threat', 'insult', 'identity_hate']\n"
   ]
  },
  {
   "cell_type": "code",
   "execution_count": 3,
   "metadata": {},
   "outputs": [
    {
     "data": {
      "text/html": [
       "<div>\n",
       "<style scoped>\n",
       "    .dataframe tbody tr th:only-of-type {\n",
       "        vertical-align: middle;\n",
       "    }\n",
       "\n",
       "    .dataframe tbody tr th {\n",
       "        vertical-align: top;\n",
       "    }\n",
       "\n",
       "    .dataframe thead th {\n",
       "        text-align: right;\n",
       "    }\n",
       "</style>\n",
       "<table border=\"1\" class=\"dataframe\">\n",
       "  <thead>\n",
       "    <tr style=\"text-align: right;\">\n",
       "      <th></th>\n",
       "      <th>Unnamed: 0</th>\n",
       "      <th>id</th>\n",
       "      <th>comment_text</th>\n",
       "      <th>comment_text_clean</th>\n",
       "      <th>toxic</th>\n",
       "      <th>severe_toxic</th>\n",
       "      <th>obscene</th>\n",
       "      <th>threat</th>\n",
       "      <th>insult</th>\n",
       "      <th>identity_hate</th>\n",
       "    </tr>\n",
       "  </thead>\n",
       "  <tbody>\n",
       "    <tr>\n",
       "      <th>0</th>\n",
       "      <td>5</td>\n",
       "      <td>0001ea8717f6de06</td>\n",
       "      <td>Thank you for understanding. I think very high...</td>\n",
       "      <td>thank understand think highly would revert wit...</td>\n",
       "      <td>0</td>\n",
       "      <td>0</td>\n",
       "      <td>0</td>\n",
       "      <td>0</td>\n",
       "      <td>0</td>\n",
       "      <td>0</td>\n",
       "    </tr>\n",
       "    <tr>\n",
       "      <th>1</th>\n",
       "      <td>7</td>\n",
       "      <td>000247e83dcc1211</td>\n",
       "      <td>:Dear god this site is horrible.</td>\n",
       "      <td>dear god site horrible</td>\n",
       "      <td>0</td>\n",
       "      <td>0</td>\n",
       "      <td>0</td>\n",
       "      <td>0</td>\n",
       "      <td>0</td>\n",
       "      <td>0</td>\n",
       "    </tr>\n",
       "    <tr>\n",
       "      <th>2</th>\n",
       "      <td>11</td>\n",
       "      <td>0002f87b16116a7f</td>\n",
       "      <td>\"::: Somebody will invariably try to add Relig...</td>\n",
       "      <td>somebody invariably try add religion really me...</td>\n",
       "      <td>0</td>\n",
       "      <td>0</td>\n",
       "      <td>0</td>\n",
       "      <td>0</td>\n",
       "      <td>0</td>\n",
       "      <td>0</td>\n",
       "    </tr>\n",
       "    <tr>\n",
       "      <th>3</th>\n",
       "      <td>13</td>\n",
       "      <td>0003e1cccfd5a40a</td>\n",
       "      <td>\" \\r\\n\\r\\n It says it right there that it IS a...</td>\n",
       "      <td>say right type type institution need case thre...</td>\n",
       "      <td>0</td>\n",
       "      <td>0</td>\n",
       "      <td>0</td>\n",
       "      <td>0</td>\n",
       "      <td>0</td>\n",
       "      <td>0</td>\n",
       "    </tr>\n",
       "    <tr>\n",
       "      <th>4</th>\n",
       "      <td>14</td>\n",
       "      <td>00059ace3e3e9a53</td>\n",
       "      <td>\" \\r\\n\\r\\n == Before adding a new product to t...</td>\n",
       "      <td>add new product list make sure relevant add ne...</td>\n",
       "      <td>0</td>\n",
       "      <td>0</td>\n",
       "      <td>0</td>\n",
       "      <td>0</td>\n",
       "      <td>0</td>\n",
       "      <td>0</td>\n",
       "    </tr>\n",
       "  </tbody>\n",
       "</table>\n",
       "</div>"
      ],
      "text/plain": [
       "   Unnamed: 0                id  \\\n",
       "0           5  0001ea8717f6de06   \n",
       "1           7  000247e83dcc1211   \n",
       "2          11  0002f87b16116a7f   \n",
       "3          13  0003e1cccfd5a40a   \n",
       "4          14  00059ace3e3e9a53   \n",
       "\n",
       "                                        comment_text  \\\n",
       "0  Thank you for understanding. I think very high...   \n",
       "1                   :Dear god this site is horrible.   \n",
       "2  \"::: Somebody will invariably try to add Relig...   \n",
       "3  \" \\r\\n\\r\\n It says it right there that it IS a...   \n",
       "4  \" \\r\\n\\r\\n == Before adding a new product to t...   \n",
       "\n",
       "                                  comment_text_clean  toxic  severe_toxic  \\\n",
       "0  thank understand think highly would revert wit...      0             0   \n",
       "1                             dear god site horrible      0             0   \n",
       "2  somebody invariably try add religion really me...      0             0   \n",
       "3  say right type type institution need case thre...      0             0   \n",
       "4  add new product list make sure relevant add ne...      0             0   \n",
       "\n",
       "   obscene  threat  insult  identity_hate  \n",
       "0        0       0       0              0  \n",
       "1        0       0       0              0  \n",
       "2        0       0       0              0  \n",
       "3        0       0       0              0  \n",
       "4        0       0       0              0  "
      ]
     },
     "execution_count": 3,
     "metadata": {},
     "output_type": "execute_result"
    }
   ],
   "source": [
    "test_all = pd.merge(test, test_labels, on='id', how='outer')\n",
    "test_all = test_all[test_all.toxic > -1]\n",
    "test_all = test_all.reset_index(drop=True)\n",
    "test_all.head()"
   ]
  },
  {
   "cell_type": "code",
   "execution_count": 4,
   "metadata": {},
   "outputs": [],
   "source": [
    "train_s = train\n",
    "test_s = test_all"
   ]
  },
  {
   "cell_type": "code",
   "execution_count": 5,
   "metadata": {},
   "outputs": [],
   "source": [
    "X_train = train_s[\"comment_text_clean\"].fillna(\"fillna\").values\n",
    "y_train = train_s[class_names].values\n",
    "X_test = test_s[\"comment_text_clean\"].fillna(\"fillna\").values\n",
    "y_test = test_s[class_names].values"
   ]
  },
  {
   "cell_type": "code",
   "execution_count": 30,
   "metadata": {},
   "outputs": [
    {
     "name": "stdout",
     "output_type": "stream",
     "text": [
      "Extracting tf-idf features for Words (ngram=(1,2))\n",
      "fit to train in 19.88s.\n",
      "transform to test in 3.37s.\n",
      "done in 23.25s.\n"
     ]
    }
   ],
   "source": [
    "print(\"Extracting tf-idf features for Words (ngram=(1,2))\")\n",
    "\n",
    "word_vectorizer = TfidfVectorizer(\n",
    "    sublinear_tf=True,\n",
    "    strip_accents='unicode',\n",
    "    analyzer='word',\n",
    "    token_pattern=r'\\w{1,}',\n",
    "    stop_words='english',\n",
    "    ngram_range=(1, 2),\n",
    "    max_features=30000)\n",
    "\n",
    "t0 = time.time()\n",
    "train_word_features = word_vectorizer.fit_transform(X_train)\n",
    "t1 = time.time()\n",
    "print(\"fit to train in %0.2fs.\" % (t1 - t0))\n",
    "\n",
    "test_word_features = word_vectorizer.transform(X_test)\n",
    "t2 = time.time()\n",
    "print(\"transform to test in %0.2fs.\" % (t2 - t1))\n",
    "\n",
    "print(\"done in %0.2fs.\" % (t2 - t0))"
   ]
  },
  {
   "cell_type": "code",
   "execution_count": 31,
   "metadata": {},
   "outputs": [
    {
     "name": "stdout",
     "output_type": "stream",
     "text": [
      "Extracting tf-idf features for Charactes (ngram=(2,4))\n",
      "fit to train in 64.33s.\n",
      "transform to test in 24.29s.\n",
      "done in 88.62s.\n"
     ]
    }
   ],
   "source": [
    "print(\"Extracting tf-idf features for Charactes (ngram=(2,4))\")\n",
    "\n",
    "char_vectorizer = TfidfVectorizer(\n",
    "    sublinear_tf=True,\n",
    "    strip_accents='unicode',\n",
    "    analyzer='char',\n",
    "    stop_words='english',\n",
    "    ngram_range=(2, 4),\n",
    "    max_features=40000)\n",
    "\n",
    "t0 = time.time()\n",
    "train_char_features  = char_vectorizer.fit_transform(X_train)\n",
    "t1 = time.time()\n",
    "print(\"fit to train in %0.2fs.\" % (t1 - t0))\n",
    "\n",
    "test_char_features  = char_vectorizer.transform(X_test)\n",
    "t2 = time.time()\n",
    "print(\"transform to test in %0.2fs.\" % (t2 - t1))\n",
    "\n",
    "print(\"done in %0.2fs.\" % (t2 - t0))"
   ]
  },
  {
   "cell_type": "code",
   "execution_count": 32,
   "metadata": {},
   "outputs": [],
   "source": [
    "train_features = hstack([train_char_features, train_word_features])\n",
    "test_features = hstack([test_char_features, test_word_features])"
   ]
  },
  {
   "cell_type": "code",
   "execution_count": 33,
   "metadata": {},
   "outputs": [
    {
     "name": "stdout",
     "output_type": "stream",
     "text": [
      "CV score for class toxic is 0.9717208624743511\n",
      "CV score for class severe_toxic is 0.9842183750245631\n",
      "CV score for class obscene is 0.9876476160265278\n",
      "CV score for class threat is 0.9802703010386672\n",
      "CV score for class insult is 0.9758391859759626\n",
      "CV score for class identity_hate is 0.9777837975976467\n"
     ]
    }
   ],
   "source": [
    "scores = []\n",
    "for i, class_name in enumerate(class_names):\n",
    "    classifier = LogisticRegression(C=5, dual=True)\n",
    "\n",
    "    cv_score = np.mean(cross_val_score(classifier, train_features, y_train[:,i], cv=3, scoring='roc_auc'))\n",
    "    scores.append(cv_score)\n",
    "    print('CV score for class {} is {}'.format(class_name, cv_score))"
   ]
  },
  {
   "cell_type": "code",
   "execution_count": 34,
   "metadata": {},
   "outputs": [
    {
     "name": "stdout",
     "output_type": "stream",
     "text": [
      "toxic done\n",
      "severe_toxic done\n",
      "obscene done\n",
      "threat done\n",
      "insult done\n",
      "identity_hate done\n"
     ]
    }
   ],
   "source": [
    "submission = pd.DataFrame.from_dict({'id': test_s['id']})\n",
    "for i, class_name in enumerate(class_names):\n",
    "    classifier.fit(train_features, y_train[:,i])\n",
    "    submission[class_name] = classifier.predict_proba(test_features)[:, 1]\n",
    "    print('{} done'.format(class_name))"
   ]
  },
  {
   "cell_type": "code",
   "execution_count": 35,
   "metadata": {},
   "outputs": [],
   "source": [
    "pred = submission[class_names].values"
   ]
  },
  {
   "cell_type": "code",
   "execution_count": 36,
   "metadata": {},
   "outputs": [
    {
     "data": {
      "text/plain": [
       "0.9756365570562879"
      ]
     },
     "execution_count": 36,
     "metadata": {},
     "output_type": "execute_result"
    }
   ],
   "source": [
    "roc_auc_score(y_test, pred)"
   ]
  },
  {
   "cell_type": "code",
   "execution_count": 39,
   "metadata": {},
   "outputs": [],
   "source": [
    "#pickle.dump( pred, open( \"logistic_pred.p\", \"wb\" ) )"
   ]
  }
 ],
 "metadata": {
  "kernelspec": {
   "display_name": "Python 3",
   "language": "python",
   "name": "python3"
  },
  "language_info": {
   "codemirror_mode": {
    "name": "ipython",
    "version": 3
   },
   "file_extension": ".py",
   "mimetype": "text/x-python",
   "name": "python",
   "nbconvert_exporter": "python",
   "pygments_lexer": "ipython3",
   "version": "3.6.4"
  }
 },
 "nbformat": 4,
 "nbformat_minor": 2
}
